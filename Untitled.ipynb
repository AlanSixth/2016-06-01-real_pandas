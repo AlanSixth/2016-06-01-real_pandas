{
 "cells": [
  {
   "cell_type": "code",
   "execution_count": 2,
   "metadata": {
    "collapsed": false
   },
   "outputs": [
    {
     "data": {
      "text/html": [
       "<img src=\"http://katrinarasbold.com/wp-content/uploads/2013/03/Jacob.jpg\"/>"
      ],
      "text/plain": [
       "<IPython.core.display.Image object>"
      ]
     },
     "execution_count": 2,
     "metadata": {},
     "output_type": "execute_result"
    }
   ],
   "source": [
    "from IPython.core.display import Image\n",
    "Image(url= 'http://katrinarasbold.com/wp-content/uploads/2013/03/Jacob.jpg')"
   ]
  },
  {
   "cell_type": "code",
   "execution_count": 12,
   "metadata": {
    "collapsed": false
   },
   "outputs": [
    {
     "data": {
      "text/plain": [
       "3.3333333333333335"
      ]
     },
     "execution_count": 12,
     "metadata": {},
     "output_type": "execute_result"
    }
   ],
   "source": [
    "10 / 3"
   ]
  },
  {
   "cell_type": "code",
   "execution_count": 11,
   "metadata": {
    "collapsed": false
   },
   "outputs": [
    {
     "data": {
      "text/plain": [
       "3"
      ]
     },
     "execution_count": 11,
     "metadata": {},
     "output_type": "execute_result"
    }
   ],
   "source": [
    "10 // 3"
   ]
  },
  {
   "cell_type": "code",
   "execution_count": 10,
   "metadata": {
    "collapsed": false
   },
   "outputs": [
    {
     "data": {
      "text/plain": [
       "1"
      ]
     },
     "execution_count": 10,
     "metadata": {},
     "output_type": "execute_result"
    }
   ],
   "source": [
    "10 % 3"
   ]
  },
  {
   "cell_type": "code",
   "execution_count": 18,
   "metadata": {
    "collapsed": false
   },
   "outputs": [
    {
     "data": {
      "text/plain": [
       "79.0513833992095"
      ]
     },
     "execution_count": 18,
     "metadata": {},
     "output_type": "execute_result"
    }
   ],
   "source": [
    "((100 + 300)/(0.2 * 10)) / 2.53"
   ]
  },
  {
   "cell_type": "code",
   "execution_count": 19,
   "metadata": {
    "collapsed": false
   },
   "outputs": [
    {
     "name": "stdout",
     "output_type": "stream",
     "text": [
      "2 is even\n",
      "4 is even\n",
      "6 is even\n"
     ]
    }
   ],
   "source": [
    "for number in [1,2,3,4,5,6,7]:\n",
    "    if number % 2 == 0:\n",
    "        print(number,'is even')"
   ]
  },
  {
   "cell_type": "code",
   "execution_count": 20,
   "metadata": {
    "collapsed": false
   },
   "outputs": [
    {
     "name": "stdout",
     "output_type": "stream",
     "text": [
      "1 passed through\n",
      "2 is even\n",
      "3 passed through\n",
      "4 is even\n",
      "5 passed through\n",
      "6 is even\n",
      "7 passed through\n"
     ]
    }
   ],
   "source": [
    "for number in [1,2,3,4,5,6,7]:\n",
    "    if number % 2 == 0:\n",
    "        print(number,'is even')\n",
    "    else:\n",
    "        print(number,'passed through')"
   ]
  },
  {
   "cell_type": "code",
   "execution_count": 21,
   "metadata": {
    "collapsed": false
   },
   "outputs": [
    {
     "name": "stdout",
     "output_type": "stream",
     "text": [
      "1 passed through\n",
      "2 is even\n",
      "3 passed through\n",
      "4 is even\n",
      "5 passed through\n",
      "6 is even\n",
      "7 passed through\n"
     ]
    }
   ],
   "source": [
    "for number in [1,2,3,4,5,6,7]:\n",
    "    if number % 2 == 0:\n",
    "        print(number,'is even')\n",
    "    elif number >= 100:\n",
    "        print(number,'is very large!') \n",
    "    else:\n",
    "        print(number,'passed through')"
   ]
  },
  {
   "cell_type": "code",
   "execution_count": 22,
   "metadata": {
    "collapsed": false
   },
   "outputs": [
    {
     "name": "stdout",
     "output_type": "stream",
     "text": [
      "1 passed through\n",
      "2 is even\n",
      "3 passed through\n",
      "4 is even\n",
      "5 passed through\n",
      "6 is even\n",
      "7 passed through\n",
      "100 is even\n"
     ]
    }
   ],
   "source": [
    "for number in [1,2,3,4,5,6,7,100]:\n",
    "    if number % 2 == 0:\n",
    "        print(number,'is even')\n",
    "    elif number >= 100:\n",
    "        print(number,'is very large!') \n",
    "    else:\n",
    "        print(number,'passed through')"
   ]
  },
  {
   "cell_type": "code",
   "execution_count": 23,
   "metadata": {
    "collapsed": false
   },
   "outputs": [
    {
     "name": "stdout",
     "output_type": "stream",
     "text": [
      "1 passed through\n",
      "2 is even\n",
      "3 passed through\n",
      "4 is even\n",
      "5 passed through\n",
      "6 is even\n",
      "7 passed through\n",
      "100 is very large!\n"
     ]
    }
   ],
   "source": [
    "for number in [1,2,3,4,5,6,7,100]:\n",
    "    if (number % 2) == 0 and (number!=100):\n",
    "        print(number,'is even')\n",
    "    elif number >= 100:\n",
    "        print(number,'is very large!') \n",
    "    else:\n",
    "        print(number,'passed through')"
   ]
  },
  {
   "cell_type": "code",
   "execution_count": 24,
   "metadata": {
    "collapsed": true
   },
   "outputs": [],
   "source": [
    "def peel_em(potatoes):\n",
    "    peeled = []\n",
    "    for tater in potatoes:\n",
    "        peeled.append(tater[1:-1])\n",
    "    return peeled"
   ]
  },
  {
   "cell_type": "code",
   "execution_count": 26,
   "metadata": {
    "collapsed": false
   },
   "outputs": [
    {
     "data": {
      "text/plain": [
       "['esir', 'ashe', 'rushe', 'ontia', 'ifle']"
      ]
     },
     "execution_count": 26,
     "metadata": {},
     "output_type": "execute_result"
    }
   ],
   "source": [
    "sack = 'desire washed brushed pontiac kifler'.split() #tricky list making! Lookup str.split()\n",
    "\n",
    "peeled_spuds = peel_em(sack)\n",
    "peeled_spuds"
   ]
  },
  {
   "cell_type": "code",
   "execution_count": null,
   "metadata": {
    "collapsed": true
   },
   "outputs": [],
   "source": []
  }
 ],
 "metadata": {
  "kernelspec": {
   "display_name": "Python 3",
   "language": "python",
   "name": "python3"
  },
  "language_info": {
   "codemirror_mode": {
    "name": "ipython",
    "version": 3
   },
   "file_extension": ".py",
   "mimetype": "text/x-python",
   "name": "python",
   "nbconvert_exporter": "python",
   "pygments_lexer": "ipython3",
   "version": "3.4.4"
  }
 },
 "nbformat": 4,
 "nbformat_minor": 0
}
