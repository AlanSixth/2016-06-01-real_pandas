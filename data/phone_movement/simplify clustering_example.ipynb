{
 "cells": [
  {
   "cell_type": "markdown",
   "metadata": {},
   "source": [
    "## Random Forest classifier example"
   ]
  },
  {
   "cell_type": "code",
   "execution_count": 1,
   "metadata": {
    "collapsed": false
   },
   "outputs": [],
   "source": [
    "from sklearn.ensemble import RandomForestClassifier"
   ]
  },
  {
   "cell_type": "markdown",
   "metadata": {},
   "source": [
    "#Watch the video of the type of activity that was recorded "
   ]
  },
  {
   "cell_type": "code",
   "execution_count": 2,
   "metadata": {
    "collapsed": false
   },
   "outputs": [
    {
     "data": {
      "image/jpeg": "[encoded data removed]",
      "text/html": [
       "\n",
       "        <iframe\n",
       "            width=\"400\"\n",
       "            height=\"300\"\n",
       "            src=\"https://www.youtube.com/embed/XOEN9W05_4A\"\n",
       "            frameborder=\"0\"\n",
       "            allowfullscreen\n",
       "        ></iframe>\n",
       "        "
      ],
      "text/plain": [
       "<IPython.lib.display.YouTubeVideo at 0x1083b5a90>"
      ]
     },
     "execution_count": 2,
     "metadata": {},
     "output_type": "execute_result"
    }
   ],
   "source": [
    "from IPython.display import YouTubeVideo, HTML\n",
    "YouTubeVideo(\"XOEN9W05_4A\")"
   ]
  },
  {
   "cell_type": "code",
   "execution_count": 3,
   "metadata": {
    "collapsed": true
   },
   "outputs": [],
   "source": [
    "#The Donald Bren School of Information and Computer Sciences - University of California, Irvine\n",
    "\n",
    "info_file = 'http://archive.ics.uci.edu/ml/machine-learning-databases/00240/UCI%20HAR%20Dataset.names'\n",
    "data_zip = 'http://archive.ics.uci.edu/ml/machine-learning-databases/00240/UCI%20HAR%20Dataset.zip'"
   ]
  },
  {
   "cell_type": "code",
   "execution_count": 4,
   "metadata": {
    "collapsed": false
   },
   "outputs": [
    {
     "name": "stdout",
     "output_type": "stream",
     "text": [
      "===================================================================================================\r",
      "\r\n",
      "Human Activity Recognition Using Smartphones Dataset\r",
      "\r\n",
      "Version 1.0\r",
      "\r\n",
      "===================================================================================================\r",
      "\r\n",
      "Jorge L. Reyes-Ortiz(1,2), Davide Anguita(1), Alessandro Ghio(1), Luca Oneto(1) and Xavier Parra(2)\r",
      "\r\n",
      "1 - Smartlab - Non-Linear Complex Systems Laboratory\r",
      "\r\n",
      "DITEN - Universit�  degli Studi di Genova, Genoa (I-16145), Italy. \r",
      "\r\n",
      "2 - CETpD - Technical Research Centre for Dependency Care and Autonomous Living\r",
      "\r\n",
      "Universitat Polit�cnica de Catalunya (BarcelonaTech). Vilanova i la Geltr� (08800), Spain\r",
      "\r\n",
      "activityrecognition '@' smartlab.ws \r",
      "\r\n",
      "===================================================================================================\r",
      "\r\n",
      "\r",
      "\r\n",
      "The experiments have been carried out with a group of 30 volunteers within an age bracket of 19-48 years. Each person performed six activities (WALKING, WALKING_UPSTAIRS, WALKING_DOWNSTAIRS, SITTING, STANDING, LAYING) wearing a smartphone (Samsung Galaxy S II) on the waist. Using its embedded accelerometer and gyroscope, we captured 3-axial linear acceleration and 3-axial angular velocity at a constant rate of 50Hz. The experiments have been video-recorded to label the data manually. The obtained dataset has been randomly partitioned into two sets, where 70% of the volunteers was selected for generating the training data and 30% the test data. \r",
      "\r\n",
      "\r",
      "\r\n",
      "The sensor signals (accelerometer and gyroscope) were pre-processed by applying noise filters and then sampled in fixed-width sliding windows of 2.56 sec and 50% overlap (128 readings/window). The sensor acceleration signal, which has gravitational and body motion components, was separated using a Butterworth low-pass filter into body acceleration and gravity. The gravitational force is assumed to have only low frequency components, therefore a filter with 0.3 Hz cutoff frequency was used. From each window, a vector of features was obtained by calculating variables from the time and frequency domain. See 'features_info.txt' for more details. \r",
      "\r\n",
      "\r",
      "\r\n",
      "For each record it is provided:\r",
      "\r\n",
      "======================================\r",
      "\r\n",
      "\r",
      "\r\n",
      "- Triaxial acceleration from the accelerometer (total acceleration) and the estimated body acceleration.\r",
      "\r\n",
      "- Triaxial Angular velocity from the gyroscope. \r",
      "\r\n",
      "- A 561-feature vector with time and frequency domain variables. \r",
      "\r\n",
      "- Its activity label. \r",
      "\r\n",
      "- An identifier of the subject who carried out the experiment.\r",
      "\r\n",
      "\r",
      "\r\n",
      "The dataset includes the following files:\r",
      "\r\n",
      "=========================================\r",
      "\r\n",
      "\r",
      "\r\n",
      "- 'README.txt'\r",
      "\r\n",
      "\r",
      "\r\n",
      "- 'features_info.txt': Shows information about the variables used on the feature vector.\r",
      "\r\n",
      "\r",
      "\r\n",
      "- 'features.txt': List of all features.\r",
      "\r\n",
      "\r",
      "\r\n",
      "- 'activity_labels.txt': Links the class labels with their activity name.\r",
      "\r\n",
      "\r",
      "\r\n",
      "- 'train/X_train.txt': Training set.\r",
      "\r\n",
      "\r",
      "\r\n",
      "- 'train/y_train.txt': Training labels.\r",
      "\r\n",
      "\r",
      "\r\n",
      "- 'test/X_test.txt': Test set.\r",
      "\r\n",
      "\r",
      "\r\n",
      "- 'test/y_test.txt': Test labels.\r",
      "\r\n",
      "\r",
      "\r\n",
      "The following files are available for the train and test data. Their descriptions are equivalent. \r",
      "\r\n",
      "\r",
      "\r\n",
      "- 'train/subject_train.txt': Each row identifies the subject who performed the activity for each window sample. Its range is from 1 to 30. \r",
      "\r\n",
      "\r",
      "\r\n",
      "- 'train/Inertial Signals/total_acc_x_train.txt': The acceleration signal from the smartphone accelerometer X axis in standard gravity units 'g'. Every row shows a 128 element vector. The same description applies for the 'total_acc_x_train.txt' and 'total_acc_z_train.txt' files for the Y and Z axis. \r",
      "\r\n",
      "\r",
      "\r\n",
      "- 'train/Inertial Signals/body_acc_x_train.txt': The body acceleration signal obtained by subtracting the gravity from the total acceleration. \r",
      "\r\n",
      "\r",
      "\r\n",
      "- 'train/Inertial Signals/body_gyro_x_train.txt': The angular velocity vector measured by the gyroscope for each window sample. The units are radians/second. \r",
      "\r\n",
      "\r",
      "\r\n",
      "Notes: \r",
      "\r\n",
      "======\r",
      "\r\n",
      "- Features are normalized and bounded within [-1,1].\r",
      "\r\n",
      "- Each feature vector is a row on the text file.\r",
      "\r\n",
      "- The units used for the accelerations (total and body) are 'g's (gravity of earth -> 9.80665 m/seg2).\r",
      "\r\n",
      "- The gyroscope units are rad/seg.\r",
      "\r\n",
      "- A video of the experiment including an example of the 6 recorded activities with one of the participants can be seen in the following link: http://www.youtube.com/watch?v=XOEN9W05_4A\r",
      "\r\n",
      "\r",
      "\r\n",
      "For more information about this dataset please contact: activityrecognition '@' smartlab.ws\r",
      "\r\n",
      "\r",
      "\r\n",
      "License:\r",
      "\r\n",
      "========\r",
      "\r\n",
      "Use of this dataset in publications must be acknowledged by referencing the following publication [1] \r",
      "\r\n",
      "\r",
      "\r\n",
      "[1] Davide Anguita, Alessandro Ghio, Luca Oneto, Xavier Parra and Jorge L. Reyes-Ortiz. A Public Domain Dataset for Human Activity Recognition Using Smartphones. 21th European Symposium on Artificial Neural Networks, Computational Intelligence and Machine Learning, ESANN 2013. Bruges, Belgium 24-26 April 2013. \r",
      "\r\n",
      "\r",
      "\r\n",
      "This dataset is distributed AS-IS and no responsibility implied or explicit can be addressed to the authors or their institutions for its use or misuse. Any commercial use is prohibited.\r",
      "\r\n",
      "\r",
      "\r\n",
      "Other Related Publications:\r",
      "\r\n",
      "===========================\r",
      "\r\n",
      "[2] Davide Anguita, Alessandro Ghio, Luca Oneto, Xavier Parra, Jorge L. Reyes-Ortiz.  Energy Efficient Smartphone-Based Activity Recognition using Fixed-Point Arithmetic. Journal of Universal Computer Science. Special Issue in Ambient Assisted Living: Home Care.   Volume 19, Issue 9. May 2013\r",
      "\r\n",
      "\r",
      "\r\n",
      "[3] Davide Anguita, Alessandro Ghio, Luca Oneto, Xavier Parra and Jorge L. Reyes-Ortiz. Human Activity Recognition on Smartphones using a Multiclass Hardware-Friendly Support Vector Machine. 4th International Workshop of Ambient Assited Living, IWAAL 2012, Vitoria-Gasteiz, Spain, December 3-5, 2012. Proceedings. Lecture Notes in Computer Science 2012, pp 216-223. \r",
      "\r\n",
      "\r",
      "\r\n",
      "[4] Jorge Luis Reyes-Ortiz, Alessandro Ghio, Xavier Parra-Llanas, Davide Anguita, Joan Cabestany, Andreu Catal�. Human Activity and Motion Disorder Recognition: Towards Smarter Interactive Cognitive Environments. 21th European Symposium on Artificial Neural Networks, Computational Intelligence and Machine Learning, ESANN 2013. Bruges, Belgium 24-26 April 2013.  \r",
      "\r\n",
      "\r",
      "\r\n",
      "==================================================================================================\r",
      "\r\n",
      "Jorge L. Reyes-Ortiz, Alessandro Ghio, Luca Oneto, Davide Anguita and Xavier Parra. November 2013.\r",
      "\r\n"
     ]
    }
   ],
   "source": [
    "!curl $info_file"
   ]
  },
  {
   "cell_type": "markdown",
   "metadata": {},
   "source": [
    "###The data is extracted from the .zip file on the UCI website"
   ]
  },
  {
   "cell_type": "code",
   "execution_count": 6,
   "metadata": {
    "collapsed": true
   },
   "outputs": [],
   "source": [
    "import requests, zipfile, io\n",
    "import pandas as pd\n",
    "r = requests.get(data_zip)\n",
    "z = zipfile.ZipFile(io.BytesIO(r.content))"
   ]
  },
  {
   "cell_type": "code",
   "execution_count": 7,
   "metadata": {
    "collapsed": false
   },
   "outputs": [],
   "source": [
    "X_train_df = pd.read_csv(z.open('UCI HAR Dataset/train/X_train.txt'), skipinitialspace=True, sep=' ', header=None)\n",
    "X_train = X_train_df.values\n",
    "y_train_df = pd.read_csv(z.open('UCI HAR Dataset/train/y_train.txt'), header=None)\n",
    "y_train = y_train_df[0].values"
   ]
  },
  {
   "cell_type": "markdown",
   "metadata": {},
   "source": [
    "###The dataset contains readings from mobile phone accelerometer and gyroscope as subjects perform a range of actions. The raw data is then manipulated to form 560 features from the initial 6 features (accelerometer 3-axis and gyroscope 3-axis).\n",
    "\n"
   ]
  },
  {
   "cell_type": "code",
   "execution_count": 8,
   "metadata": {
    "collapsed": false
   },
   "outputs": [
    {
     "data": {
      "text/plain": [
       "(7352, 561)"
      ]
     },
     "execution_count": 8,
     "metadata": {},
     "output_type": "execute_result"
    }
   ],
   "source": [
    "X_train.shape"
   ]
  },
  {
   "cell_type": "code",
   "execution_count": 9,
   "metadata": {
    "collapsed": false
   },
   "outputs": [
    {
     "data": {
      "text/plain": [
       "(7352,)"
      ]
     },
     "execution_count": 9,
     "metadata": {},
     "output_type": "execute_result"
    }
   ],
   "source": [
    "y_train.shape"
   ]
  },
  {
   "cell_type": "markdown",
   "metadata": {},
   "source": [
    "###A training set of 7352 readings (X_train) labeled as one of six activities (y_train) is used to train a random forest classifier."
   ]
  },
  {
   "cell_type": "code",
   "execution_count": 10,
   "metadata": {
    "collapsed": false
   },
   "outputs": [
    {
     "data": {
      "text/plain": [
       "RandomForestClassifier(bootstrap=True, class_weight=None, criterion='gini',\n",
       "            max_depth=None, max_features='auto', max_leaf_nodes=None,\n",
       "            min_samples_leaf=1, min_samples_split=2,\n",
       "            min_weight_fraction_leaf=0.0, n_estimators=150, n_jobs=2,\n",
       "            oob_score=False, random_state=None, verbose=0,\n",
       "            warm_start=False)"
      ]
     },
     "execution_count": 10,
     "metadata": {},
     "output_type": "execute_result"
    }
   ],
   "source": [
    "clf = RandomForestClassifier(n_jobs=2,n_estimators=150)\n",
    "clf.fit(X_train, y_train)"
   ]
  },
  {
   "cell_type": "markdown",
   "metadata": {},
   "source": [
    "### A quick sanity check where the training data is classified by the model - should be 100% accurate or very close"
   ]
  },
  {
   "cell_type": "code",
   "execution_count": 11,
   "metadata": {
    "collapsed": false
   },
   "outputs": [],
   "source": [
    "from sklearn.metrics import accuracy_score, roc_auc_score\n",
    "\n",
    "y_predict = clf.predict(X_train)"
   ]
  },
  {
   "cell_type": "code",
   "execution_count": 12,
   "metadata": {
    "collapsed": false
   },
   "outputs": [
    {
     "name": "stdout",
     "output_type": "stream",
     "text": [
      "------------------------------------------------------------\n",
      "\n",
      "\n",
      "A Random Forest Classifier with 150 estimators was 100.0% accurate on the test data.\n",
      "\n",
      "\n",
      "------------------------------------------------------------\n"
     ]
    }
   ],
   "source": [
    "accuracy = accuracy_score(y_train, y_predict)\n",
    "print('---'*20)\n",
    "print('\\n')\n",
    "print(\"A Random Forest Classifier with 150 estimators was {}% accurate on the test data.\".format(round(accuracy*100,2)))\n",
    "print('\\n')\n",
    "print('---'*20)"
   ]
  },
  {
   "cell_type": "markdown",
   "metadata": {},
   "source": [
    "###A second unseen dataset of 2947 datapoints is used to test the classifier."
   ]
  },
  {
   "cell_type": "code",
   "execution_count": 13,
   "metadata": {
    "collapsed": true
   },
   "outputs": [],
   "source": [
    "X_test_df = pd.read_csv(z.open('UCI HAR Dataset/test/X_test.txt'), skipinitialspace=True, sep=' ', header=None)\n",
    "X_test = X_test_df.values\n",
    "y_test_df = pd.read_csv(z.open('UCI HAR Dataset/test/y_test.txt'), header=None)\n",
    "y_test = y_test_df[0].values"
   ]
  },
  {
   "cell_type": "code",
   "execution_count": 14,
   "metadata": {
    "collapsed": false
   },
   "outputs": [
    {
     "data": {
      "text/plain": [
       "(2947, 561)"
      ]
     },
     "execution_count": 14,
     "metadata": {},
     "output_type": "execute_result"
    }
   ],
   "source": [
    "X_test.shape"
   ]
  },
  {
   "cell_type": "code",
   "execution_count": 15,
   "metadata": {
    "collapsed": false
   },
   "outputs": [
    {
     "data": {
      "text/plain": [
       "(2947,)"
      ]
     },
     "execution_count": 15,
     "metadata": {},
     "output_type": "execute_result"
    }
   ],
   "source": [
    "y_test.shape"
   ]
  },
  {
   "cell_type": "markdown",
   "metadata": {},
   "source": [
    "###Predictions for the unseen dataset are created."
   ]
  },
  {
   "cell_type": "code",
   "execution_count": 16,
   "metadata": {
    "collapsed": true
   },
   "outputs": [],
   "source": [
    "y_predict_test = clf.predict(X_test)"
   ]
  },
  {
   "cell_type": "markdown",
   "metadata": {},
   "source": [
    "###The correct labels are loaded and prediction accuracy is tested"
   ]
  },
  {
   "cell_type": "code",
   "execution_count": 17,
   "metadata": {
    "collapsed": false
   },
   "outputs": [
    {
     "name": "stdout",
     "output_type": "stream",
     "text": [
      "------------------------------------------------------------\n",
      "\n",
      "\n",
      "A random Forest Classifier with 150 estimators, trained on the training data, was 92.53% accurate at labelling the unseen test data.\n",
      "\n",
      "\n",
      "------------------------------------------------------------\n"
     ]
    }
   ],
   "source": [
    "test_score = accuracy_score(y_test, y_predict_test)\n",
    "print('---'*20)\n",
    "print('\\n')\n",
    "print('A random Forest Classifier with 150 estimators, trained on the training data, was {}% accurate at labelling the unseen test data.'.format(round(test_score*100,2)))\n",
    "print('\\n')\n",
    "print('---'*20)\n"
   ]
  },
  {
   "cell_type": "code",
   "execution_count": 20,
   "metadata": {
    "collapsed": false
   },
   "outputs": [
    {
     "data": {
      "text/plain": [
       "[<matplotlib.lines.Line2D at 0x124db0b00>]"
      ]
     },
     "execution_count": 20,
     "metadata": {},
     "output_type": "execute_result"
    },
    {
     "data": {
      "image/png": "[encoded data removed]",
      "text/plain": [
       "<matplotlib.figure.Figure at 0x124239438>"
      ]
     },
     "metadata": {},
     "output_type": "display_data"
    }
   ],
   "source": [
    "import matplotlib as mpl\n",
    "import matplotlib.pyplot as plt\n",
    "%matplotlib inline\n",
    "\n",
    "order = clf.feature_importances_\n",
    "order.sort()\n",
    "plt.plot(order)  "
   ]
  },
  {
   "cell_type": "code",
   "execution_count": 21,
   "metadata": {
    "collapsed": false
   },
   "outputs": [],
   "source": [
    "importance = pd.DataFrame(clf.feature_importances_)"
   ]
  },
  {
   "cell_type": "code",
   "execution_count": 22,
   "metadata": {
    "collapsed": false
   },
   "outputs": [],
   "source": [
    "feature = pd.read_csv(z.open('UCI HAR Dataset/features.txt'),sep=' ',header=None)"
   ]
  },
  {
   "cell_type": "code",
   "execution_count": 23,
   "metadata": {
    "collapsed": false
   },
   "outputs": [],
   "source": [
    "feature['importance'] = clf.feature_importances_"
   ]
  },
  {
   "cell_type": "code",
   "execution_count": 24,
   "metadata": {
    "collapsed": false
   },
   "outputs": [],
   "source": [
    "feature.columns = [0, 'transform', 'importance']"
   ]
  },
  {
   "cell_type": "markdown",
   "metadata": {},
   "source": [
    "###The features with an importance >.015 are - "
   ]
  },
  {
   "cell_type": "code",
   "execution_count": 25,
   "metadata": {
    "collapsed": false
   },
   "outputs": [
    {
     "name": "stdout",
     "output_type": "stream",
     "text": [
      "tGravityAcc-mean()-X [ 0.0297341]\n",
      "tGravityAcc-mean()-Y [ 0.02099245]\n",
      "tGravityAcc-max()-X [ 0.0251645]\n",
      "tGravityAcc-max()-Y [ 0.02414523]\n",
      "tGravityAcc-min()-X [ 0.03086592]\n",
      "tGravityAcc-min()-Y [ 0.02568863]\n",
      "tGravityAcc-energy()-X [ 0.02996626]\n",
      "tGravityAcc-energy()-Y [ 0.01880238]\n",
      "angle(X,gravityMean) [ 0.02039927]\n",
      "angle(Y,gravityMean) [ 0.03191564]\n"
     ]
    }
   ],
   "source": [
    "for feat in feature.transform[feature.importance>.015].values:\n",
    "    print(feat,feature.importance[feature.transform==feat].values)"
   ]
  },
  {
   "cell_type": "code",
   "execution_count": 26,
   "metadata": {
    "collapsed": false
   },
   "outputs": [],
   "source": [
    "activity_labels = pd.read_csv(z.open('UCI HAR Dataset/activity_labels.txt'),index_col=0,sep=' ',header = None)"
   ]
  },
  {
   "cell_type": "code",
   "execution_count": 27,
   "metadata": {
    "collapsed": false
   },
   "outputs": [
    {
     "data": {
      "text/plain": [
       "['walking',\n",
       " 'walking_upstairs',\n",
       " 'walking_downstairs',\n",
       " 'sitting',\n",
       " 'standing',\n",
       " 'laying']"
      ]
     },
     "execution_count": 27,
     "metadata": {},
     "output_type": "execute_result"
    }
   ],
   "source": [
    "labels_activity = [x.lower() for x in activity_labels[1].tolist()]\n",
    "labels_activity"
   ]
  },
  {
   "cell_type": "code",
   "execution_count": 28,
   "metadata": {
    "collapsed": false
   },
   "outputs": [
    {
     "name": "stdout",
     "output_type": "stream",
     "text": [
      "\n",
      " metrics.f1_score for each category in training set \n",
      " ----------------------------------------\n",
      "walking - 100.0%\n",
      "walking_upstairs - 100.0%\n",
      "walking_downstairs - 100.0%\n",
      "sitting - 100.0%\n",
      "standing - 100.0%\n",
      "laying - 100.0%\n",
      "\n",
      " metrics.f1_score for each category in test set \n",
      " ----------------------------------------\n",
      "walking - 93.32%\n",
      "walking_upstairs - 90.38%\n",
      "walking_downstairs - 90.19%\n",
      "sitting - 89.58%\n",
      "standing - 90.62%\n",
      "laying - 100.0%\n"
     ]
    }
   ],
   "source": [
    "from sklearn import metrics\n",
    "# testing score\n",
    "score_test = metrics.f1_score(y_test, y_predict_test, pos_label=list(set(y_test)),average = None)\n",
    "# training score\n",
    "score_train = metrics.f1_score(y_train, y_predict, pos_label=list(set(y_train)),average = None)\n",
    "\n",
    "print('\\n','metrics.f1_score for each category in training set','\\n','----'*10)\n",
    "for act,dec in zip(labels_activity,score_train):\n",
    "    print('{} - {}%'.format(act,round(dec*100,2)))\n",
    "\n",
    "print('\\n','metrics.f1_score for each category in test set','\\n','----'*10)\n",
    "for act,dec in zip(labels_activity,score_test):\n",
    "    print('{} - {}%'.format(act,round(dec*100,2)))"
   ]
  },
  {
   "cell_type": "markdown",
   "metadata": {},
   "source": [
    "### The original paper used a SVC from R to classify the data. Here is a comparison in Python using the same type of classifier."
   ]
  },
  {
   "cell_type": "code",
   "execution_count": 29,
   "metadata": {
    "collapsed": false
   },
   "outputs": [
    {
     "ename": "NameError",
     "evalue": "name 'ax' is not defined",
     "output_type": "error",
     "traceback": [
      "\u001b[0;31m---------------------------------------------------------------------------\u001b[0m",
      "\u001b[0;31mNameError\u001b[0m                                 Traceback (most recent call last)",
      "\u001b[0;32m<ipython-input-29-1d4b56dc29fb>\u001b[0m in \u001b[0;36m<module>\u001b[0;34m()\u001b[0m\n\u001b[1;32m     33\u001b[0m \u001b[0;32mfor\u001b[0m \u001b[0mx\u001b[0m \u001b[0;32min\u001b[0m \u001b[0mrange\u001b[0m\u001b[0;34m(\u001b[0m\u001b[0mwidth\u001b[0m\u001b[0;34m)\u001b[0m\u001b[0;34m:\u001b[0m\u001b[0;34m\u001b[0m\u001b[0m\n\u001b[1;32m     34\u001b[0m     \u001b[0;32mfor\u001b[0m \u001b[0my\u001b[0m \u001b[0;32min\u001b[0m \u001b[0mrange\u001b[0m\u001b[0;34m(\u001b[0m\u001b[0mheight\u001b[0m\u001b[0;34m)\u001b[0m\u001b[0;34m:\u001b[0m\u001b[0;34m\u001b[0m\u001b[0m\n\u001b[0;32m---> 35\u001b[0;31m         ax.annotate(str(conf_arr[x][y]), xy=(y, x), \n\u001b[0m\u001b[1;32m     36\u001b[0m                     \u001b[0mhorizontalalignment\u001b[0m\u001b[0;34m=\u001b[0m\u001b[0;34m'center'\u001b[0m\u001b[0;34m,\u001b[0m\u001b[0;34m\u001b[0m\u001b[0m\n\u001b[1;32m     37\u001b[0m                     verticalalignment='center')\n",
      "\u001b[0;31mNameError\u001b[0m: name 'ax' is not defined"
     ]
    }
   ],
   "source": [
    "from sklearn import svm, datasets\n",
    "from sklearn.cross_validation import train_test_split\n",
    "from sklearn.metrics import confusion_matrix\n",
    "\n",
    "import matplotlib.pyplot as plt\n",
    "%matplotlib inline\n",
    "plt.rcParams['figure.figsize'] = (14.0, 10.0)\n",
    "\n",
    "# Run classifier\n",
    "classifier = svm.SVC(kernel='linear')\n",
    "y_predictSVC = classifier.fit(X_train, y_train).predict(X_test)\n",
    "\n",
    "y_values = [0,1,2,3,4,5]\n",
    "activity = labels_activity\n",
    "\n",
    "# Compute confusion matrix\n",
    "conf_arr = confusion_matrix(y_test, y_predictSVC)\n",
    "\n",
    "\n",
    "norm_conf = []\n",
    "for i in conf_arr:\n",
    "    a = 0\n",
    "    tmp_arr = []\n",
    "    a = sum(i, 0)\n",
    "    for j in i:\n",
    "        tmp_arr.append(float(j)/float(a))\n",
    "    norm_conf.append(tmp_arr)\n",
    "\n",
    "\n",
    "width = len(conf_arr)\n",
    "height = len(conf_arr[0])\n",
    "\n",
    "for x in range(width):\n",
    "    for y in range(height):\n",
    "        ax.annotate(str(conf_arr[x][y]), xy=(y, x), \n",
    "                    horizontalalignment='center',\n",
    "                    verticalalignment='center')\n",
    "\n",
    "\n",
    "\n",
    "# Show confusion matrix in a separate window\n",
    "cb = fig.colorbar(res)\n",
    "plt.matshow(conf_arr,cmap=plt.cm.winter)\n",
    "plt.title('Confusion matrix for SVM',y=1.5)\n",
    "plt.colorbar(cmap=plt.cm.YlGn)\n",
    "plt.ylabel('True label')\n",
    "plt.xlabel('Predicted label')\n",
    "\n",
    "plt.yticks(y_values, activity)\n",
    "plt.xticks(y_values, activity,rotation = 90,)\n",
    "plt.grid(b = False, which='major', axis='both')\n",
    "\n",
    "width = len(conf_arr)\n",
    "height = len(conf_arr[0])\n",
    "\n",
    "for x in range(width):\n",
    "    for y in range(height):\n",
    "        plt.annotate(str(conf_arr[x][y]), xy=(y, x), \n",
    "                    horizontalalignment='center',\n",
    "                    verticalalignment='center')\n",
    "#plt.show()"
   ]
  },
  {
   "cell_type": "markdown",
   "metadata": {},
   "source": [
    "### The confusion matrix from the SVC in sklearn (Python) was very close to the result obtained by the original authors using R. (see paper https://www.elen.ucl.ac.be/Proceedings/esann/esannpdf/es2013-84.pdf)"
   ]
  },
  {
   "cell_type": "code",
   "execution_count": 30,
   "metadata": {
    "collapsed": false
   },
   "outputs": [
    {
     "name": "stdout",
     "output_type": "stream",
     "text": [
      "------------------------------------------------------------\n",
      "\n",
      "\n",
      "A SVC was 96.4% accurate on the test data.\n",
      "\n",
      "\n",
      "------------------------------------------------------------\n"
     ]
    }
   ],
   "source": [
    "accuracy = accuracy_score(y_test, y_predictSVC)\n",
    "print('---'*20)\n",
    "print('\\n')\n",
    "print(\"A SVC was {}% accurate on the test data.\".format(round(accuracy*100,2)))\n",
    "print('\\n')\n",
    "print('---'*20)"
   ]
  },
  {
   "cell_type": "markdown",
   "metadata": {},
   "source": [
    "### An alternative model using a Random Forest Classifier"
   ]
  },
  {
   "cell_type": "code",
   "execution_count": 33,
   "metadata": {
    "collapsed": false
   },
   "outputs": [
    {
     "ename": "NameError",
     "evalue": "name 'res' is not defined",
     "output_type": "error",
     "traceback": [
      "\u001b[0;31m---------------------------------------------------------------------------\u001b[0m",
      "\u001b[0;31mNameError\u001b[0m                                 Traceback (most recent call last)",
      "\u001b[0;32m<ipython-input-33-a3d675b272d9>\u001b[0m in \u001b[0;36m<module>\u001b[0;34m()\u001b[0m\n\u001b[1;32m     40\u001b[0m \u001b[0;34m\u001b[0m\u001b[0m\n\u001b[1;32m     41\u001b[0m \u001b[0;31m# Show confusion matrix in a separate window\u001b[0m\u001b[0;34m\u001b[0m\u001b[0;34m\u001b[0m\u001b[0m\n\u001b[0;32m---> 42\u001b[0;31m \u001b[0mcb\u001b[0m \u001b[0;34m=\u001b[0m \u001b[0mplt\u001b[0m\u001b[0;34m.\u001b[0m\u001b[0mcolorbar\u001b[0m\u001b[0;34m(\u001b[0m\u001b[0mres\u001b[0m\u001b[0;34m)\u001b[0m\u001b[0;34m\u001b[0m\u001b[0m\n\u001b[0m\u001b[1;32m     43\u001b[0m \u001b[0mplt\u001b[0m\u001b[0;34m.\u001b[0m\u001b[0mmatshow\u001b[0m\u001b[0;34m(\u001b[0m\u001b[0mconf_arr\u001b[0m\u001b[0;34m,\u001b[0m\u001b[0mcmap\u001b[0m\u001b[0;34m=\u001b[0m\u001b[0mplt\u001b[0m\u001b[0;34m.\u001b[0m\u001b[0mcm\u001b[0m\u001b[0;34m.\u001b[0m\u001b[0mwinter\u001b[0m\u001b[0;34m)\u001b[0m\u001b[0;34m\u001b[0m\u001b[0m\n\u001b[1;32m     44\u001b[0m \u001b[0mplt\u001b[0m\u001b[0;34m.\u001b[0m\u001b[0mtitle\u001b[0m\u001b[0;34m(\u001b[0m\u001b[0;34m'Confusion matrix for Random Forest Classifier'\u001b[0m\u001b[0;34m,\u001b[0m\u001b[0my\u001b[0m\u001b[0;34m=\u001b[0m\u001b[0;36m1.5\u001b[0m\u001b[0;34m)\u001b[0m\u001b[0;34m\u001b[0m\u001b[0m\n",
      "\u001b[0;31mNameError\u001b[0m: name 'res' is not defined"
     ]
    }
   ],
   "source": [
    "from sklearn.ensemble import RandomForestClassifier\n",
    "#from sklearn.cross_validation import train_test_split\n",
    "from sklearn.metrics import confusion_matrix\n",
    "\n",
    "import matplotlib.pyplot as plt\n",
    "%matplotlib inline\n",
    "plt.rcParams['figure.figsize'] = (14.0, 10.0)\n",
    "\n",
    "# Run classifier\n",
    "#classifier = svm.SVC(kernel='linear')\n",
    "#y_predictSVC = classifier.fit(X_train, y_train).predict(X_test)\n",
    "\n",
    "y_values = [0,1,2,3,4,5]\n",
    "activity = labels_activity\n",
    "\n",
    "# Compute confusion matrix\n",
    "conf_arr = confusion_matrix(y_test, y_predict_test)\n",
    "\n",
    "\n",
    "norm_conf = []\n",
    "for i in conf_arr:\n",
    "    a = 0\n",
    "    tmp_arr = []\n",
    "    a = sum(i, 0)\n",
    "    for j in i:\n",
    "        tmp_arr.append(float(j)/float(a))\n",
    "    norm_conf.append(tmp_arr)\n",
    "\n",
    "\n",
    "width = len(conf_arr)\n",
    "height = len(conf_arr[0])\n",
    "\n",
    "#for x in range(width):\n",
    "    #for y in range(height):\n",
    "        #ax.annotate(str(conf_arr[x][y]), xy=(y, x), \n",
    "                    #horizontalalignment='center',\n",
    "                    #verticalalignment='center')\n",
    "\n",
    "\n",
    "\n",
    "# Show confusion matrix in a separate window\n",
    "cb = plt.colorbar(res)\n",
    "plt.matshow(conf_arr,cmap=plt.cm.winter)\n",
    "plt.title('Confusion matrix for Random Forest Classifier',y=1.5)\n",
    "plt.colorbar(cmap=plt.cm.YlGn)\n",
    "plt.ylabel('True label')\n",
    "plt.xlabel('Predicted label')\n",
    "\n",
    "plt.yticks(y_values, activity)\n",
    "plt.xticks(y_values, activity,rotation = 90,)\n",
    "plt.grid(b = False, which='major', axis='both')\n",
    "\n",
    "width = len(conf_arr)\n",
    "height = len(conf_arr[0])\n",
    "\n",
    "for x in range(width):\n",
    "    for y in range(height):\n",
    "        plt.annotate(str(conf_arr[x][y]), xy=(y, x), \n",
    "                    horizontalalignment='center',\n",
    "                    verticalalignment='center')\n",
    "#plt.show()"
   ]
  },
  {
   "cell_type": "code",
   "execution_count": 241,
   "metadata": {
    "collapsed": false
   },
   "outputs": [
    {
     "name": "stdout",
     "output_type": "stream",
     "text": [
      "------------------------------------------------------------\n",
      "\n",
      "\n",
      "A Random Forest Classifier with 150 estimators was 93.01% accurate on the test data.\n",
      "\n",
      "\n",
      "------------------------------------------------------------\n"
     ]
    }
   ],
   "source": [
    "accuracy = accuracy_score(y_test, y_predict_test)\n",
    "print('---'*20)\n",
    "print('\\n')\n",
    "print(\"A Random Forest Classifier with 150 estimators was {}% accurate on the test data.\".format(round(accuracy*100,2)))\n",
    "print('\\n')\n",
    "print('---'*20)"
   ]
  },
  {
   "cell_type": "code",
   "execution_count": null,
   "metadata": {
    "collapsed": true
   },
   "outputs": [],
   "source": []
  }
 ],
 "metadata": {
  "kernelspec": {
   "display_name": "Python 3",
   "language": "python",
   "name": "python3"
  },
  "language_info": {
   "codemirror_mode": {
    "name": "ipython",
    "version": 3
   },
   "file_extension": ".py",
   "mimetype": "text/x-python",
   "name": "python",
   "nbconvert_exporter": "python",
   "pygments_lexer": "ipython3",
   "version": "3.4.4"
  }
 },
 "nbformat": 4,
 "nbformat_minor": 0
}
