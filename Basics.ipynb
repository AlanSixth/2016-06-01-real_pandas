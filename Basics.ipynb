{
 "cells": [
  {
   "cell_type": "markdown",
   "metadata": {},
   "source": [
    "<h1>Reserved Words:</h1>\n",
    "<p>The following list shows the reserved words in Python. These reserved words may not be used as constant or variable or any other identifier names.</p>\n",
    "<table class=\"table table-bordered\">\n",
    "<tr><td>and</td><td>exec</td><td>not</td></tr>\n",
    "<tr><td>assert</td><td>finally</td><td>or</td></tr>\n",
    "<tr><td>break</td><td>for</td><td>pass</td></tr>\n",
    "<tr><td>class</td><td>from</td><td>print</td></tr>\n",
    "<tr><td>continue</td><td>global</td><td>raise</td></tr>\n",
    "<tr><td>def</td><td>if</td><td>return</td></tr>\n",
    "<tr><td>del</td><td>import</td><td>try</td></tr>\n",
    "<tr><td>elif</td><td>in</td><td>while</td></tr>\n",
    "<tr><td>else</td><td>is</td><td>with </td></tr>\n",
    "<tr><td>except</td><td>lambda</td><td>yield</td></tr>\n",
    "</table>"
   ]
  },
  {
   "cell_type": "code",
   "execution_count": null,
   "metadata": {
    "collapsed": true
   },
   "outputs": [],
   "source": []
  }
 ],
 "metadata": {
  "kernelspec": {
   "display_name": "Python 3",
   "language": "python",
   "name": "python3"
  },
  "language_info": {
   "codemirror_mode": {
    "name": "ipython",
    "version": 3
   },
   "file_extension": ".py",
   "mimetype": "text/x-python",
   "name": "python",
   "nbconvert_exporter": "python",
   "pygments_lexer": "ipython3",
   "version": "3.4.4"
  }
 },
 "nbformat": 4,
 "nbformat_minor": 0
}
