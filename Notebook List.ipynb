{
 "cells": [
  {
   "cell_type": "code",
   "execution_count": 12,
   "metadata": {
    "collapsed": false
   },
   "outputs": [
    {
     "data": {
      "text/html": [
       "./<br>\n",
       "&nbsp;&nbsp;<a href='./.gitignore' target='_blank'>.gitignore</a><br>\n",
       "&nbsp;&nbsp;<a href='./Lambda functions.ipynb' target='_blank'>Lambda functions.ipynb</a><br>\n",
       "&nbsp;&nbsp;<a href='./list_comprehension.ipynb' target='_blank'>list_comprehension.ipynb</a><br>\n",
       "&nbsp;&nbsp;<a href='./Notebook List.ipynb' target='_blank'>Notebook List.ipynb</a><br>\n",
       "&nbsp;&nbsp;<a href='./patient data Part 2.ipynb' target='_blank'>patient data Part 2.ipynb</a><br>\n",
       "&nbsp;&nbsp;<a href='./patient data.ipynb' target='_blank'>patient data.ipynb</a><br>\n",
       "&nbsp;&nbsp;<a href='./Phase2_ParticipantInfo_deident_data.xlsx' target='_blank'>Phase2_ParticipantInfo_deident_data.xlsx</a><br>\n",
       "&nbsp;&nbsp;<a href='./README.md' target='_blank'>README.md</a><br>\n",
       "&nbsp;&nbsp;<a href='./Real_data_pandas.ipynb' target='_blank'>Real_data_pandas.ipynb</a><br>\n",
       "&nbsp;&nbsp;<a href='./real_pandas.ipynb' target='_blank'>real_pandas.ipynb</a><br>"
      ],
      "text/plain": [
       "./\n",
       "  .gitignore\n",
       "  Lambda functions.ipynb\n",
       "  list_comprehension.ipynb\n",
       "  Notebook List.ipynb\n",
       "  patient data Part 2.ipynb\n",
       "  patient data.ipynb\n",
       "  Phase2_ParticipantInfo_deident_data.xlsx\n",
       "  README.md\n",
       "  Real_data_pandas.ipynb\n",
       "  real_pandas.ipynb"
      ]
     },
     "execution_count": 12,
     "metadata": {},
     "output_type": "execute_result"
    }
   ],
   "source": [
    "from IPython.display import FileLink, FileLinks\n",
    "import glob\n",
    "\n",
    "\n",
    "FileLinks('.',recursive=False)"
   ]
  },
  {
   "cell_type": "code",
   "execution_count": null,
   "metadata": {
    "collapsed": true
   },
   "outputs": [],
   "source": []
  }
 ],
 "metadata": {
  "kernelspec": {
   "display_name": "Python 3",
   "language": "python",
   "name": "python3"
  },
  "language_info": {
   "codemirror_mode": {
    "name": "ipython",
    "version": 3
   },
   "file_extension": ".py",
   "mimetype": "text/x-python",
   "name": "python",
   "nbconvert_exporter": "python",
   "pygments_lexer": "ipython3",
   "version": "3.4.4"
  }
 },
 "nbformat": 4,
 "nbformat_minor": 0
}
