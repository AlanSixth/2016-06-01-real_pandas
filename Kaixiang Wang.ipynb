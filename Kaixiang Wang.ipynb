{
 "cells": [
  {
   "cell_type": "markdown",
   "metadata": {},
   "source": [
    "# Python Workshop\n",
    "---------------\n",
    "\n",
    "- Shell\n",
    "- Python\n",
    "- iPython\n",
    "- **Jupyter Notebook**\n",
    "\n",
    "\n",
    "\n",
    "1. get stuff into a program\n",
    "2. manipulate it\n",
    "3. output something\n",
    "\n",
    "## This is something mine\n",
    "\n",
    "\n",
    "a\n",
    "_____\n",
    "b\n",
    "****\n",
    "c\n",
    "\n",
    "----\n",
    "\\begin{align}\n",
    "\\dot{x}&=Ax+Bu\\\\\n",
    "y&=Cx+Du\n",
    "\\end{align}\n"
   ]
  },
  {
   "cell_type": "markdown",
   "metadata": {},
   "source": [
    "Heading\n",
    "=======\n",
    "Sub-heading\n",
    "-----------\n",
    "### Another deeper heading\n",
    " \n",
    "Paragraphs are separated\n",
    "by a blank line.\n",
    "\n",
    "Two spaces at the end of a line leave a  \n",
    "line break.\n",
    "\n",
    "Text attributes _italic_, *italic*, __bold__, **bold**, `monospace`.\n",
    "\n",
    "Horizontal rule:\n",
    "\n",
    "----\n",
    "\n",
    "Bullet list:\n",
    "\n",
    "  * apples\n",
    "  * oranges\n",
    "  * pears\n",
    "\n",
    "Numbered list:\n",
    "\n",
    "  1. apples\n",
    "  2. oranges\n",
    "  3. pears\n",
    "\n",
    "A [link](http://example.com)."
   ]
  },
  {
   "cell_type": "markdown",
   "metadata": {},
   "source": [
    "# Images\n",
    "\n",
    "Here's our logo (hover to see the title text):\n",
    "\n",
    "Inline-style: \n",
    "![alt text](https://github.com/adam-p/markdown-here/raw/master/src/common/images/icon48.png \"Logo Title Text 1\")\n",
    "\n",
    "Reference-style: \n",
    "![alt text][logo]\n",
    "\n",
    "[logo]: https://github.com/adam-p/markdown-here/raw/master/src/common/images/icon48.png \"Logo Title Text 2\""
   ]
  },
  {
   "cell_type": "code",
   "execution_count": 31,
   "metadata": {
    "collapsed": false
   },
   "outputs": [
    {
     "data": {
      "text/plain": [
       "float"
      ]
     },
     "execution_count": 31,
     "metadata": {},
     "output_type": "execute_result"
    }
   ],
   "source": [
    "type(10/3)"
   ]
  },
  {
   "cell_type": "code",
   "execution_count": 36,
   "metadata": {
    "collapsed": false
   },
   "outputs": [
    {
     "data": {
      "text/plain": [
       "'1.0'"
      ]
     },
     "execution_count": 36,
     "metadata": {},
     "output_type": "execute_result"
    }
   ],
   "source": [
    "str(1.0)"
   ]
  },
  {
   "cell_type": "code",
   "execution_count": 50,
   "metadata": {
    "collapsed": false
   },
   "outputs": [
    {
     "data": {
      "text/plain": [
       "(43.3, 43)"
      ]
     },
     "execution_count": 50,
     "metadata": {},
     "output_type": "execute_result"
    }
   ],
   "source": [
    "s='43.3'\n",
    "float(s),int(43.5)"
   ]
  },
  {
   "cell_type": "code",
   "execution_count": 4,
   "metadata": {
    "collapsed": false
   },
   "outputs": [
    {
     "name": "stdout",
     "output_type": "stream",
     "text": [
      "type a number\n",
      "42\n"
     ]
    },
    {
     "data": {
      "text/plain": [
       "str"
      ]
     },
     "execution_count": 4,
     "metadata": {},
     "output_type": "execute_result"
    }
   ],
   "source": [
    "s_num=input('type a number\\n')\n",
    "type(s_num)"
   ]
  },
  {
   "cell_type": "code",
   "execution_count": 10,
   "metadata": {
    "collapsed": false
   },
   "outputs": [
    {
     "data": {
      "text/plain": [
       "'4242424242'"
      ]
     },
     "execution_count": 10,
     "metadata": {},
     "output_type": "execute_result"
    }
   ],
   "source": [
    "s_num*5"
   ]
  }
 ],
 "metadata": {
  "kernelspec": {
   "display_name": "Python 3",
   "language": "python",
   "name": "python3"
  },
  "language_info": {
   "codemirror_mode": {
    "name": "ipython",
    "version": 3
   },
   "file_extension": ".py",
   "mimetype": "text/x-python",
   "name": "python",
   "nbconvert_exporter": "python",
   "pygments_lexer": "ipython3",
   "version": "3.4.3"
  }
 },
 "nbformat": 4,
 "nbformat_minor": 0
}
