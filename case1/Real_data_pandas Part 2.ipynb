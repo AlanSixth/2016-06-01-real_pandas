{
 "cells": [
  {
   "cell_type": "code",
   "execution_count": null,
   "metadata": {
    "collapsed": false
   },
   "outputs": [],
   "source": [
    "from IPython.core.display import HTML\n",
    "css = open('../style/style-table.css').read() + open('../style/style-notebook.css').read()\n",
    "HTML('<style>{}</style>'.format(css))"
   ]
  },
  {
   "cell_type": "markdown",
   "metadata": {},
   "source": [
    "<div style=\" color:black; text-shadow: 1px 1px brown; font-size:2em;  background:url(../style/images/Lucerne3.jpg)\">,\n",
    "    <h1 align=\"center\">Scientific Python\n",
    "    <img src=\"../style/images/kundalini_pythons_gold_outline.png\" style=\"height:360px; align:center; \" ></h1>\n",
    "    </div>"
   ]
  },
  {
   "cell_type": "markdown",
   "metadata": {},
   "source": [
    "# Using the real data"
   ]
  },
  {
   "cell_type": "code",
   "execution_count": null,
   "metadata": {
    "collapsed": true
   },
   "outputs": [],
   "source": [
    "import pandas as pd\n",
    "%matplotlib inline"
   ]
  },
  {
   "cell_type": "code",
   "execution_count": null,
   "metadata": {
    "collapsed": false
   },
   "outputs": [],
   "source": [
    "df = pd.read_excel('../data/Phase2_ParticipantInfo_deident_data.xlsx',skiprows=[0,1,3])\n",
    "df.drop(1,axis=1,inplace=True)\n",
    "df.dropna(how = 'all',inplace=True)\n",
    "df.drop([17],inplace=True)\n",
    "df.reset_index(drop = True,inplace = True) \n",
    "df"
   ]
  },
  {
   "cell_type": "markdown",
   "metadata": {},
   "source": [
    "# Actually, let's fix this..."
   ]
  },
  {
   "cell_type": "markdown",
   "metadata": {
    "collapsed": false
   },
   "source": [
    "### Not a thorough fix but a quick tidy up of column names\n",
    "### df.columns = [x.replace(' ','_') for x in df.columns]"
   ]
  },
  {
   "cell_type": "code",
   "execution_count": null,
   "metadata": {
    "collapsed": false
   },
   "outputs": [],
   "source": [
    "names = list(df1.columns)"
   ]
  },
  {
   "cell_type": "code",
   "execution_count": null,
   "metadata": {
    "collapsed": false
   },
   "outputs": [],
   "source": [
    "names"
   ]
  },
  {
   "cell_type": "markdown",
   "metadata": {},
   "source": [
    "--------------"
   ]
  },
  {
   "cell_type": "markdown",
   "metadata": {},
   "source": [
    "### How I build up code"
   ]
  },
  {
   "cell_type": "markdown",
   "metadata": {},
   "source": [
    "- __Start small and output to the cell__\n",
    "\n",
    "```python\n",
    "df.columns\n",
    "\n",
    "Index(['Age', 'Gender', 'Years Educ', 'Education Comp', 'Study disapline', 'Occupation', 'Hearing', 'Medication', 'Unnamed: 9', 'General Fam history?', 'Unnamed: 11', '1st degree Family history', 'Diagnosis', 'Personal History', 'Diagnosis.1', 'Medicated?', 'Smoker?', 'Frequency', 'Menstruation', 'Contraceptive'], dtype='object')\n",
    "```\n",
    "---\n",
    "- __Try out a list comprehension to get started, still output to cell__\n",
    "\n",
    "```python\n",
    "[x for x in df.columns]\n",
    "['Age',\n",
    " 'Gender',\n",
    " 'Years Educ',\n",
    " 'Education Comp',\n",
    " 'Study disapline',\n",
    " 'Occupation',\n",
    " 'Hearing',\n",
    " 'Medication',\n",
    " 'Unnamed: 9',\n",
    " 'General Fam history?',\n",
    " 'Unnamed: 11',\n",
    " '1st degree Family history',\n",
    " 'Diagnosis',\n",
    " 'Personal History',\n",
    " 'Diagnosis.1',\n",
    " 'Medicated?',\n",
    " 'Smoker?',\n",
    " 'Frequency',\n",
    " 'Menstruation',\n",
    " 'Contraceptive']\n",
    "```\n",
    "---\n",
    "- __Great! I'll save that to a list__\n",
    "```python\n",
    "names = [x for x in df.columns]\n",
    "```\n",
    "---\n",
    "- __Now I want to take each item in 'names' and replace all non letters with something neutral__\n",
    "\n",
    "I tried to do this with list comprehension but I was getting confused - so a cuddly old 'for' loop worked. \n",
    "```python\n",
    "import string\n",
    "\n",
    "cleanlist = []\n",
    "\n",
    "for word in names:\n",
    "    cleanlist.append(''.join([x.replace(' ','_') for x in ''.join([x for x in word if x not in string.punctuation])]))\n",
    "print(cleanlist)\n",
    "\n",
    "['Age', 'Gender', 'Years_Educ', 'Education_Comp', 'Study_disapline', 'Occupation', 'Hearing', 'Medication', 'Unnamed_9', 'General_Fam_history', 'Unnamed_11', '1st_degree_Family_history', 'Diagnosis', 'Personal_History', 'Diagnosis1', 'Medicated', 'Smoker', 'Frequency', 'Menstruation', 'Contraceptive']\n",
    "```\n",
    "---\n",
    "- __That's still a bit confusing to read with a nested list comprehension (Why did I ever think that was going to be readable?)__\n",
    "\n",
    "It's better to be readable for debugging and future rewriting so I will change the nested list comprehension to something more obvious even though it will be more code.\n",
    "\n",
    "```python\n",
    "import string\n",
    "\n",
    "cleanlist = []\n",
    "\n",
    "for word in names:\n",
    "    cleanlist.append(''.join([x for x in word if x not in string.punctuation]))\n",
    "print('cleanlist = {}'.format(cleanlist),'\\n\\n')\n",
    "\n",
    "nospace_list = []\n",
    "\n",
    "for word in cleanlist:\n",
    "    nospace_list.append(''.join([x.replace(' ','_') for x in word]))\n",
    "print('nospace_list = {}'.format(nospace_list))\n",
    "\n",
    "cleanlist = ['Age', 'Gender', 'Years Educ', 'Education Comp', 'Study disapline', 'Occupation', 'Hearing', 'Medication', 'Unnamed 9', 'General Fam history', 'Unnamed 11', '1st degree Family history', 'Diagnosis', 'Personal History', 'Diagnosis1', 'Medicated', 'Smoker', 'Frequency', 'Menstruation', 'Contraceptive'] \n",
    "\n",
    "\n",
    "nospace_list = ['Age', 'Gender', 'Years_Educ', 'Education_Comp', 'Study_disapline', 'Occupation', 'Hearing', 'Medication', 'Unnamed_9', 'General_Fam_history', 'Unnamed_11', '1st_degree_Family_history', 'Diagnosis', 'Personal_History', 'Diagnosis1', 'Medicated', 'Smoker', 'Frequency', 'Menstruation', 'Contraceptive']\n",
    "\n",
    "```\n",
    "---\n",
    "\n",
    "__There is the possibility of using a lambda function.__\n",
    "\n",
    "```python\n",
    "import string\n",
    "\n",
    "#Remove punctuation\n",
    "cleanlist = []\n",
    "temp_string = ''\n",
    "\n",
    "for word in names:\n",
    "    for letter in word:\n",
    "        if letter not in string.punctuation:\n",
    "            temp_string += letter\n",
    "    \n",
    "    cleanlist.append(temp_string)\n",
    "    temp_string = ''\n",
    "       \n",
    "print('cleanlist = {}'.format(cleanlist),'\\n\\n')\n",
    "\n",
    "#Replace spaces with '_'\n",
    "\n",
    "nospace_list = []\n",
    "\n",
    "despace = lambda word: word.replace(' ','_')\n",
    "\n",
    "for word in cleanlist:\n",
    "    nospace_list.append(despace(word))\n",
    "    \n",
    "print('nospace_list = {}'.format(nospace_list),'\\n\\n')\n",
    "\n",
    "del(cleanlist, nospace_list, temp_string)\n",
    "\n",
    "cleanlist = ['Age', 'Gender', 'Years Educ', 'Education Comp', 'Study disapline', 'Occupation', 'Hearing', 'Medication', 'Unnamed 9', 'General Fam history', 'Unnamed 11', '1st degree Family history', 'Diagnosis', 'Personal History', 'Diagnosis1', 'Medicated', 'Smoker', 'Frequency', 'Menstruation', 'Contraceptive'] \n",
    "\n",
    "\n",
    "nospace_list = ['Age', 'Gender', 'Years_Educ', 'Education_Comp', 'Study_disapline', 'Occupation', 'Hearing', 'Medication', 'Unnamed_9', 'General_Fam_history', 'Unnamed_11', '1st_degree_Family_history', 'Diagnosis', 'Personal_History', 'Diagnosis1', 'Medicated', 'Smoker', 'Frequency', 'Menstruation', 'Contraceptive'] \n",
    "```\n",
    "---"
   ]
  },
  {
   "cell_type": "code",
   "execution_count": null,
   "metadata": {
    "collapsed": false
   },
   "outputs": [],
   "source": [
    "import string\n",
    "\n",
    "#Remove punctuation\n",
    "cleanlist = []\n",
    "temp_string = ''\n",
    "\n",
    "for word in names:\n",
    "    for letter in word:\n",
    "        if letter not in string.punctuation:\n",
    "            temp_string += letter\n",
    "    \n",
    "    cleanlist.append(temp_string)\n",
    "    temp_string = ''\n",
    "       \n",
    "print('cleanlist = {}'.format(cleanlist),'\\n\\n')\n",
    "\n",
    "#Replace spaces with '_'\n",
    "\n",
    "nospace_list = []\n",
    "\n",
    "for word in cleanlist:\n",
    "    nospace_list.append(word.replace(' ','_'))\n",
    "    \n",
    "print('nospace_list = {}'.format(nospace_list),'\\n\\n')\n",
    "\n",
    "del(cleanlist, nospace_list, temp_string)"
   ]
  },
  {
   "cell_type": "code",
   "execution_count": null,
   "metadata": {
    "collapsed": false
   },
   "outputs": [],
   "source": [
    "import string\n",
    "\n",
    "#Remove punctuation\n",
    "cleanlist = []\n",
    "temp_string = ''\n",
    "\n",
    "for word in names:\n",
    "    for letter in word:\n",
    "        if letter not in string.punctuation:\n",
    "            temp_string += letter\n",
    "    \n",
    "    cleanlist.append(temp_string)\n",
    "    temp_string = ''\n",
    "       \n",
    "print('cleanlist = {}'.format(cleanlist),'\\n\\n')\n",
    "\n",
    "#Replace spaces with '_'\n",
    "\n",
    "nospace_list = []\n",
    "\n",
    "despace = lambda word: word.replace(' ','_')\n",
    "\n",
    "for word in cleanlist:\n",
    "    nospace_list.append(despace(word))\n",
    "\n",
    "#for word in cleanlist:\n",
    "    #nospace_list.append(word.replace(' ','_'))\n",
    "    \n",
    "print('nospace_list = {}'.format(nospace_list),'\\n\\n')\n",
    "\n",
    "del(cleanlist, temp_string)"
   ]
  },
  {
   "cell_type": "markdown",
   "metadata": {
    "collapsed": true
   },
   "source": [
    "-------------------------------------"
   ]
  },
  {
   "cell_type": "code",
   "execution_count": null,
   "metadata": {
    "collapsed": false
   },
   "outputs": [],
   "source": [
    "df.columns = nospace_list\n",
    "df"
   ]
  },
  {
   "cell_type": "code",
   "execution_count": null,
   "metadata": {
    "collapsed": false
   },
   "outputs": [],
   "source": [
    "df"
   ]
  },
  {
   "cell_type": "code",
   "execution_count": null,
   "metadata": {
    "collapsed": false
   },
   "outputs": [],
   "source": [
    "#finally remove the NaN row\n",
    "#df = df.dropna(axis = 0,how = 'all')\n",
    "#and change the column names to something more useable\n",
    "#df.columns = [x.replace(' ','_') for x in df.columns]\n",
    "print(df)"
   ]
  },
  {
   "cell_type": "markdown",
   "metadata": {},
   "source": [
    "    The list comprehension probably deserves an explanation.\n",
    "    for every entry in the Gender column, \n",
    "    - the value is converted to lowercase\n",
    "    - the 0th letter is passed to the next function\n",
    "    - 'm' is changed to 'male'\n",
    "    - 'f' is changed to 'female'"
   ]
  },
  {
   "cell_type": "code",
   "execution_count": null,
   "metadata": {
    "collapsed": false
   },
   "outputs": [],
   "source": [
    "df.Gender = [x.lower()[0].replace('m','male').replace('f','female') for x in df.Gender]\n",
    "print(df.Gender)"
   ]
  },
  {
   "cell_type": "code",
   "execution_count": null,
   "metadata": {
    "collapsed": false
   },
   "outputs": [],
   "source": [
    "df.Hearing = [x.lower()[0].replace('n','no').replace('y','yes') for x in df.Hearing]\n",
    "print(df.Hearing)"
   ]
  },
  {
   "cell_type": "code",
   "execution_count": null,
   "metadata": {
    "collapsed": false
   },
   "outputs": [],
   "source": [
    "df.Medication = [x.lower()[0].replace('n','no').replace('y','yes') for x in df.Medication]\n",
    "print(df.Medication)"
   ]
  },
  {
   "cell_type": "code",
   "execution_count": null,
   "metadata": {
    "collapsed": false
   },
   "outputs": [],
   "source": [
    "df.General_Fam_history"
   ]
  },
  {
   "cell_type": "markdown",
   "metadata": {},
   "source": [
    "This column was a bit more challenging because of the NaN's. The list comprehension doesn't cope with the NaN's and rather than write out a whole loop with clauses to handle it, I decided to just select out the non-NaN values for the list comprehension __df['General_Fam_history?'].dropna()__ and replace the non-NaN values in the column __pd.notnull(df['General_Fam_history?'])__. \n",
    "\n",
    "---\n",
    "\n",
    "df['General_Fam_history?'][pd.notnull(df['General_Fam_history?'])] = [x.lower()[0].replace('n','no').replace('y','yes') for x in df['General_Fam_history?'].dropna()]\n"
   ]
  },
  {
   "cell_type": "code",
   "execution_count": null,
   "metadata": {
    "collapsed": false
   },
   "outputs": [],
   "source": [
    "df['General_Fam_history'][pd.notnull(df['General_Fam_history'])] \\\n",
    "= [x.lower()[0].replace('n','no').replace('y','yes') for x in df['General_Fam_history'].dropna()]"
   ]
  },
  {
   "cell_type": "code",
   "execution_count": null,
   "metadata": {
    "collapsed": false
   },
   "outputs": [],
   "source": [
    "df"
   ]
  },
  {
   "cell_type": "markdown",
   "metadata": {
    "collapsed": true
   },
   "source": [
    "    \n",
    "    As I'm writing all these list comprehensions, it's occuring to me that I should make a function that does it."
   ]
  },
  {
   "cell_type": "code",
   "execution_count": null,
   "metadata": {
    "collapsed": false
   },
   "outputs": [],
   "source": [
    "[x.lower()[0].replace('m','male').replace('f','female').replace('n','False').replace('y','True') for x in df.Hearing]"
   ]
  },
  {
   "cell_type": "code",
   "execution_count": null,
   "metadata": {
    "collapsed": false
   },
   "outputs": [],
   "source": [
    "str(True)"
   ]
  },
  {
   "cell_type": "code",
   "execution_count": null,
   "metadata": {
    "collapsed": false
   },
   "outputs": [],
   "source": [
    "[str(x).lower() in ['yes','y','1','True'] for x in df.Medication]"
   ]
  },
  {
   "cell_type": "markdown",
   "metadata": {},
   "source": [
    "#Using set( ) to show the unique values."
   ]
  },
  {
   "cell_type": "code",
   "execution_count": null,
   "metadata": {
    "collapsed": false
   },
   "outputs": [],
   "source": [
    "for name,number in zip([x for x in df],[set(df[x]) for x in df]):\n",
    "    print(name,': ',number,'\\n\\n')"
   ]
  },
  {
   "cell_type": "code",
   "execution_count": null,
   "metadata": {
    "collapsed": true
   },
   "outputs": [],
   "source": []
  }
 ],
 "metadata": {
  "kernelspec": {
   "display_name": "Python 3",
   "language": "python",
   "name": "python3"
  },
  "language_info": {
   "codemirror_mode": {
    "name": "ipython",
    "version": 3
   },
   "file_extension": ".py",
   "mimetype": "text/x-python",
   "name": "python",
   "nbconvert_exporter": "python",
   "pygments_lexer": "ipython3",
   "version": "3.4.4"
  }
 },
 "nbformat": 4,
 "nbformat_minor": 0
}
