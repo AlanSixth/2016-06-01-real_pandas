{
 "cells": [
  {
   "cell_type": "markdown",
   "metadata": {},
   "source": [
    "### Data munging"
   ]
  },
  {
   "cell_type": "markdown",
   "metadata": {},
   "source": [
    "This data was collected from an online database. All values are strings, as is common with SQL queries. There are also some empty trials in the middle of the dataset that make it difficult to use.\n",
    "\n",
    "This is common with datasets. They often need a certain amount of 'data munging'. \n",
    "\n",
    "Todd Landes - tlandes@student.unimelb.edu.au"
   ]
  },
  {
   "cell_type": "code",
   "execution_count": null,
   "metadata": {
    "collapsed": false
   },
   "outputs": [],
   "source": [
    "!pwd"
   ]
  },
  {
   "cell_type": "markdown",
   "metadata": {},
   "source": [
    "https://github.com/alistairwalsh/neural_code_style"
   ]
  },
  {
   "cell_type": "code",
   "execution_count": null,
   "metadata": {
    "collapsed": false
   },
   "outputs": [],
   "source": [
    "!ls ../style/"
   ]
  },
  {
   "cell_type": "markdown",
   "metadata": {},
   "source": [
    "### Styling is important"
   ]
  },
  {
   "cell_type": "code",
   "execution_count": null,
   "metadata": {
    "collapsed": false
   },
   "outputs": [],
   "source": [
    "cat ../style/logo2.html\n"
   ]
  },
  {
   "cell_type": "code",
   "execution_count": null,
   "metadata": {
    "collapsed": false
   },
   "outputs": [],
   "source": [
    "# %load neural_code_style-master/style/style.py\n",
    "from IPython.core.display import HTML\n",
    "css = open('../style/style-table.css').read() + open('../style/style-notebook.css').read()\n",
    "HTML('<style>{}</style>'.format(css))"
   ]
  },
  {
   "cell_type": "code",
   "execution_count": null,
   "metadata": {
    "collapsed": false
   },
   "outputs": [],
   "source": [
    "import pandas as pd\n",
    "%matplotlib notebook"
   ]
  },
  {
   "cell_type": "code",
   "execution_count": null,
   "metadata": {
    "collapsed": false
   },
   "outputs": [],
   "source": [
    "pd.read_csv('../data/llpilot1web_raw.csv',header=None).shape"
   ]
  },
  {
   "cell_type": "code",
   "execution_count": null,
   "metadata": {
    "collapsed": true
   },
   "outputs": [],
   "source": [
    "datafile = '../data/llpilot1web_raw.csv'"
   ]
  },
  {
   "cell_type": "code",
   "execution_count": null,
   "metadata": {
    "collapsed": false
   },
   "outputs": [],
   "source": [
    "participant1 = pd.read_csv(datafile,header=None,nrows=14) # first participant 14 rows including the header\n",
    "participant1"
   ]
  },
  {
   "cell_type": "code",
   "execution_count": null,
   "metadata": {
    "collapsed": false
   },
   "outputs": [],
   "source": [
    "participant1.ix[0:5,0:3]"
   ]
  },
  {
   "cell_type": "markdown",
   "metadata": {},
   "source": [
    "### Let's look at the data as it comes"
   ]
  },
  {
   "cell_type": "code",
   "execution_count": null,
   "metadata": {
    "collapsed": false
   },
   "outputs": [],
   "source": [
    "with open(datafile,'r') as fh:\n",
    "    print(fh.readline(),fh.readline()) #first line then second line of raw csv"
   ]
  },
  {
   "cell_type": "markdown",
   "metadata": {},
   "source": [
    "### A way to handle the header separately"
   ]
  },
  {
   "cell_type": "code",
   "execution_count": null,
   "metadata": {
    "collapsed": false
   },
   "outputs": [],
   "source": [
    "header = ''\n",
    "bool(header)"
   ]
  },
  {
   "cell_type": "code",
   "execution_count": null,
   "metadata": {
    "collapsed": false
   },
   "outputs": [],
   "source": [
    "csv_text = ''\n",
    "header = ''\n",
    "with open(datafile,'r') as fh:\n",
    "    for line in fh:\n",
    "        if bool(header) == False: # so until the header contains information it is False\n",
    "            header = line\n",
    "        if line == header: continue # once the header is filled, we can avoid the rest of the header lines\n",
    "        else:\n",
    "            csv_text += line"
   ]
  },
  {
   "cell_type": "code",
   "execution_count": null,
   "metadata": {
    "collapsed": false
   },
   "outputs": [],
   "source": [
    "header"
   ]
  },
  {
   "cell_type": "code",
   "execution_count": null,
   "metadata": {
    "collapsed": false
   },
   "outputs": [],
   "source": [
    "csv_text"
   ]
  },
  {
   "cell_type": "code",
   "execution_count": null,
   "metadata": {
    "collapsed": true
   },
   "outputs": [],
   "source": [
    "with open('cleaned_data.csv','w') as outfile:\n",
    "    print(header+csv_text,file=outfile)"
   ]
  },
  {
   "cell_type": "code",
   "execution_count": null,
   "metadata": {
    "collapsed": false
   },
   "outputs": [],
   "source": [
    "!cat cleaned_data.csv"
   ]
  },
  {
   "cell_type": "code",
   "execution_count": null,
   "metadata": {
    "collapsed": false
   },
   "outputs": [],
   "source": [
    "pd.read_csv('cleaned_data.csv')"
   ]
  },
  {
   "cell_type": "code",
   "execution_count": null,
   "metadata": {
    "collapsed": false
   },
   "outputs": [],
   "source": [
    "pd.read_csv('cleaned_data.csv').columns"
   ]
  },
  {
   "cell_type": "code",
   "execution_count": null,
   "metadata": {
    "collapsed": false
   },
   "outputs": [],
   "source": [
    "{x:'int' for x in ['id', 'expCode', 'subject', 'age', 'gender', 'ethnicity', 'country',\n",
    "       'education', 'economics', 'quizAttempts', 'trialCount', 'condition',\n",
    "       'faceID', 'choice', 'choiceCongruent', 'trustworthyRate',\n",
    "       'reasonForExp', 'reasonCorrect', 'elapsedTime', 'responseTime',\n",
    "       'trialEndTime', 'date']}"
   ]
  },
  {
   "cell_type": "code",
   "execution_count": null,
   "metadata": {
    "collapsed": false
   },
   "outputs": [],
   "source": [
    "data1 = pd.read_csv('cleaned_data.csv',dtype={'age': 'int',\n",
    " 'choice': 'int',\n",
    " 'choiceCongruent': 'int',\n",
    " 'condition': 'int',\n",
    " 'economics': 'int',\n",
    " 'education': 'int',\n",
    " 'ethnicity': 'int',\n",
    " 'faceID': 'int',\n",
    " 'gender': 'int',\n",
    " 'id': 'int',\n",
    " 'quizAttempts': 'int',\n",
    " 'reasonCorrect': 'int',\n",
    " 'reasonForExp': 'int',\n",
    " 'trialCount': 'int',\n",
    " 'trustworthyRate': 'int'})\n",
    "data1.dtypes"
   ]
  },
  {
   "cell_type": "code",
   "execution_count": null,
   "metadata": {
    "collapsed": true
   },
   "outputs": [],
   "source": [
    "data1.to_csv('cleaned_typed.csv',index=False)"
   ]
  },
  {
   "cell_type": "code",
   "execution_count": null,
   "metadata": {
    "collapsed": false
   },
   "outputs": [],
   "source": [
    "pd.read_csv('cleaned_typed.csv').dtypes"
   ]
  },
  {
   "cell_type": "code",
   "execution_count": null,
   "metadata": {
    "collapsed": true
   },
   "outputs": [],
   "source": [
    "data = pd.read_csv('cleaned_typed.csv')"
   ]
  },
  {
   "cell_type": "code",
   "execution_count": null,
   "metadata": {
    "collapsed": false
   },
   "outputs": [],
   "source": [
    "data"
   ]
  },
  {
   "cell_type": "markdown",
   "metadata": {},
   "source": [
    "### multi indexes"
   ]
  },
  {
   "cell_type": "code",
   "execution_count": null,
   "metadata": {
    "collapsed": true
   },
   "outputs": [],
   "source": [
    "data.set_index(['subject','id'],inplace=True)"
   ]
  },
  {
   "cell_type": "code",
   "execution_count": null,
   "metadata": {
    "collapsed": false
   },
   "outputs": [],
   "source": [
    "data.loc['03c2782a'][['faceID','trustworthyRate']]"
   ]
  },
  {
   "cell_type": "code",
   "execution_count": null,
   "metadata": {
    "collapsed": false
   },
   "outputs": [],
   "source": [
    "print(par_1.faceID,par_1.trustworthyRate)"
   ]
  },
  {
   "cell_type": "code",
   "execution_count": null,
   "metadata": {
    "collapsed": false
   },
   "outputs": [],
   "source": [
    "final=[]\n",
    "for face in par_1.faceID.tolist()[:-1]:\n",
    "    final.append(face_ans[face])\n",
    "final.append(0)\n",
    "print(final)"
   ]
  },
  {
   "cell_type": "code",
   "execution_count": null,
   "metadata": {
    "collapsed": false
   },
   "outputs": [],
   "source": [
    "data.reset_index(inplace=True)"
   ]
  },
  {
   "cell_type": "code",
   "execution_count": null,
   "metadata": {
    "collapsed": false
   },
   "outputs": [],
   "source": [
    "data.to_pickle('trust_data.p')"
   ]
  },
  {
   "cell_type": "code",
   "execution_count": null,
   "metadata": {
    "collapsed": false
   },
   "outputs": [],
   "source": [
    "subjects = list(set(data.subject))"
   ]
  },
  {
   "cell_type": "code",
   "execution_count": null,
   "metadata": {
    "collapsed": false
   },
   "outputs": [],
   "source": [
    "def re_map(face_id,rating):\n",
    "    '''\n",
    "    takes two series objects and creates a dictionary\n",
    "    with face id as the key and trustworthy rating as the answer\n",
    "    '''\n",
    "    \n",
    "\n",
    "for sub in subjects:\n",
    "    print(data[data.subject == sub])"
   ]
  },
  {
   "cell_type": "code",
   "execution_count": null,
   "metadata": {
    "collapsed": false
   },
   "outputs": [],
   "source": [
    "par_1"
   ]
  },
  {
   "cell_type": "code",
   "execution_count": null,
   "metadata": {
    "collapsed": true
   },
   "outputs": [],
   "source": [
    "par_1 = data.loc['03c2782a']"
   ]
  },
  {
   "cell_type": "code",
   "execution_count": null,
   "metadata": {
    "collapsed": false
   },
   "outputs": [],
   "source": [
    "par_1.faceID"
   ]
  },
  {
   "cell_type": "code",
   "execution_count": null,
   "metadata": {
    "collapsed": false
   },
   "outputs": [],
   "source": [
    "par_1.faceID[6:12]"
   ]
  },
  {
   "cell_type": "code",
   "execution_count": null,
   "metadata": {
    "collapsed": false
   },
   "outputs": [],
   "source": [
    "face_ans = {}\n",
    "kys = []\n",
    "a = []\n",
    "for inx in par_1.faceID[6:12]:\n",
    "    kys.append(inx)\n",
    "    \n",
    "for ans in par_1.trustworthyRate[6:12]:\n",
    "    a.append(ans)\n",
    "    \n",
    "for k,v in zip(kys,a):\n",
    "    face_ans[k]=v\n",
    "        \n",
    "        #face_ans[inx]=ans\n",
    "    #face_ans[inx]\n",
    "    #print(par_1.faceID.ix[inx])\n",
    "#par_1.faceID.ix[3]\n",
    "print(face_ans)"
   ]
  },
  {
   "cell_type": "code",
   "execution_count": null,
   "metadata": {
    "collapsed": true
   },
   "outputs": [],
   "source": []
  },
  {
   "cell_type": "code",
   "execution_count": null,
   "metadata": {
    "collapsed": false
   },
   "outputs": [],
   "source": [
    "par_1.trustworthyRate"
   ]
  },
  {
   "cell_type": "code",
   "execution_count": null,
   "metadata": {
    "collapsed": false
   },
   "outputs": [],
   "source": [
    "sub_1 = data.loc['03c2782a']"
   ]
  },
  {
   "cell_type": "code",
   "execution_count": null,
   "metadata": {
    "collapsed": false
   },
   "outputs": [],
   "source": [
    "sub_1.responseTime.plot()"
   ]
  },
  {
   "cell_type": "code",
   "execution_count": null,
   "metadata": {
    "collapsed": false
   },
   "outputs": [],
   "source": [
    "# 126/14 = 9"
   ]
  },
  {
   "cell_type": "code",
   "execution_count": null,
   "metadata": {
    "collapsed": false
   },
   "outputs": [],
   "source": [
    "for skip in pd.np.arange(0,126,14):\n",
    "    print(skip)\n",
    "    print(pd.read_csv('llpilot1web_raw.csv',skiprows=skip,nrows=14,usecols=[0,1,2],header=None),'\\n','*'*50)"
   ]
  },
  {
   "cell_type": "code",
   "execution_count": null,
   "metadata": {
    "collapsed": false
   },
   "outputs": [],
   "source": [
    "(339-129)/14"
   ]
  },
  {
   "cell_type": "code",
   "execution_count": null,
   "metadata": {
    "collapsed": false
   },
   "outputs": [],
   "source": [
    "for skip in pd.np.arange(129,339,14):\n",
    "    print(skip)\n",
    "    print(pd.read_csv('llpilot1web_raw.csv',skiprows=skip,nrows=14,usecols=[0,1,2],header=None),'\\n','*'*50)"
   ]
  },
  {
   "cell_type": "markdown",
   "metadata": {},
   "source": [
    "There are a block of headers in the middle of the csv, plan is to write each participant to a separate files"
   ]
  },
  {
   "cell_type": "code",
   "execution_count": null,
   "metadata": {
    "collapsed": false
   },
   "outputs": [],
   "source": [
    "for skip in pd.np.arange(0,126,14):\n",
    "    print(skip)\n",
    "    print(pd.read_csv('llpilot1web_raw.csv',skiprows=skip,nrows=14,usecols=[0,1,2],header=None),'\\n','*'*50)\n",
    "\n",
    "print('#'*50)   \n",
    "\n",
    "for skip in pd.np.arange(129,339,14):\n",
    "    print(skip)\n",
    "    print(pd.read_csv('llpilot1web_raw.csv',skiprows=skip,nrows=14,usecols=[0,1,2],header=None),'\\n','*'*50)"
   ]
  },
  {
   "cell_type": "code",
   "execution_count": null,
   "metadata": {
    "collapsed": true
   },
   "outputs": [],
   "source": [
    "for skip in pd.np.arange(0,126,14):\n",
    "\n",
    "    data = pd.read_csv('llpilot1web_raw.csv',skiprows=skip,nrows=14,usecols=[0,1,2],header=None)\n",
    "\n",
    "print('#'*50)   \n",
    "\n",
    "for skip in pd.np.arange(129,339,14):\n",
    "\n",
    "    data = pd.read_csv('llpilot1web_raw.csv',skiprows=skip,nrows=14,usecols=[0,1,2],header=None)"
   ]
  },
  {
   "cell_type": "markdown",
   "metadata": {},
   "source": [
    "### Generator for participant names"
   ]
  },
  {
   "cell_type": "code",
   "execution_count": null,
   "metadata": {
    "collapsed": false
   },
   "outputs": [],
   "source": [
    "# create generator for creating participant file names\n",
    "def participant(n,start):\n",
    "    i = start\n",
    "    while i <= n:\n",
    "        yield 'participant_'+str(i)\n",
    "        i += 1\n",
    "\n",
    "nums = participant(9,1) # first part of csv is 126 lines long, 126/14 = 9\n",
    "\n",
    "\n",
    "for skip in pd.np.arange(0,126,14):\n",
    "    data = pd.read_csv('llpilot1web_raw.csv',skiprows=skip,nrows=14,header=None)\n",
    "    participant_name = next(nums)\n",
    "    with open(participant_name+'.csv','w') as filehandle:\n",
    "        data.to_csv(filehandle,index=False,header=False)\n",
    "        \n",
    "def participant(n,start):\n",
    "    i = start\n",
    "    while i <= n:\n",
    "        yield 'participant_'+str(i)\n",
    "        i += 1\n",
    "\n",
    "nums = participant(24,10) # second part of csv is 339-first part long, (339-129)/14=15\n",
    "\n",
    "for skip in pd.np.arange(129,339,14):\n",
    "    data = pd.read_csv('llpilot1web_raw.csv',skiprows=skip,nrows=14,header=None)\n",
    "    participant_name = next(nums)\n",
    "    with open(participant_name+'.csv','w') as filehandle:\n",
    "        data.to_csv(filehandle,index=False,header=False)"
   ]
  },
  {
   "cell_type": "code",
   "execution_count": null,
   "metadata": {
    "collapsed": false
   },
   "outputs": [],
   "source": [
    "ls # 24 files created"
   ]
  },
  {
   "cell_type": "code",
   "execution_count": null,
   "metadata": {
    "collapsed": false
   },
   "outputs": [],
   "source": [
    "!cat participant_1.csv"
   ]
  },
  {
   "cell_type": "code",
   "execution_count": null,
   "metadata": {
    "collapsed": false
   },
   "outputs": [],
   "source": [
    "# read in files and recreate master datafile\n",
    "from glob import glob \n",
    "\n",
    "datafiles = glob('part*')\n",
    "datafiles.sort(key=lambda student: int(student.split('_')[1][:-4]))\n",
    "\n",
    "master = pd.read_csv('participant_1.csv')\n",
    "\n",
    "for person in datafiles[1:]:\n",
    "    master = master.append(pd.read_csv(person))\n",
    "    \n",
    "master"
   ]
  },
  {
   "cell_type": "code",
   "execution_count": null,
   "metadata": {
    "collapsed": false
   },
   "outputs": [],
   "source": [
    "master.set_index(['subject','id'],inplace=True)"
   ]
  },
  {
   "cell_type": "code",
   "execution_count": null,
   "metadata": {
    "collapsed": false
   },
   "outputs": [],
   "source": [
    "master.loc['03c2782a']"
   ]
  },
  {
   "cell_type": "code",
   "execution_count": null,
   "metadata": {
    "collapsed": true
   },
   "outputs": [],
   "source": [
    "subject_1 = master.loc['03c2782a']"
   ]
  },
  {
   "cell_type": "code",
   "execution_count": null,
   "metadata": {
    "collapsed": false
   },
   "outputs": [],
   "source": [
    "subject_1.responseTime"
   ]
  },
  {
   "cell_type": "code",
   "execution_count": null,
   "metadata": {
    "collapsed": false
   },
   "outputs": [],
   "source": [
    "subject_1.trustworthyRate"
   ]
  },
  {
   "cell_type": "code",
   "execution_count": null,
   "metadata": {
    "collapsed": false
   },
   "outputs": [],
   "source": [
    "master.loc['03c2782a'].responseTime.boxplot()"
   ]
  },
  {
   "cell_type": "code",
   "execution_count": null,
   "metadata": {
    "collapsed": true
   },
   "outputs": [],
   "source": []
  }
 ],
 "metadata": {
  "kernelspec": {
   "display_name": "Python 3",
   "language": "python",
   "name": "python3"
  },
  "language_info": {
   "codemirror_mode": {
    "name": "ipython",
    "version": 3
   },
   "file_extension": ".py",
   "mimetype": "text/x-python",
   "name": "python",
   "nbconvert_exporter": "python",
   "pygments_lexer": "ipython3",
   "version": "3.4.4"
  }
 },
 "nbformat": 4,
 "nbformat_minor": 0
}
